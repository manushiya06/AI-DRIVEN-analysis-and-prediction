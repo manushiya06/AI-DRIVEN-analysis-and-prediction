{
  "nbformat": 4,
  "nbformat_minor": 0,
  "metadata": {
    "colab": {
      "provenance": [],
      "authorship_tag": "ABX9TyNF/PAAUxQh1Y7V+fSUChIO",
      "include_colab_link": true
    },
    "kernelspec": {
      "name": "python3",
      "display_name": "Python 3"
    },
    "language_info": {
      "name": "python"
    }
  },
  "cells": [
    {
      "cell_type": "markdown",
      "metadata": {
        "id": "view-in-github",
        "colab_type": "text"
      },
      "source": [
        "<a href=\"https://colab.research.google.com/github/manushiya06/AI-DRIVEN-analysis-and-prediction/blob/main/face2.ipynb\" target=\"_parent\"><img src=\"https://colab.research.google.com/assets/colab-badge.svg\" alt=\"Open In Colab\"/></a>"
      ]
    },
    {
      "cell_type": "code",
      "execution_count": null,
      "metadata": {
        "colab": {
          "base_uri": "https://localhost:8080/"
        },
        "id": "VwcB4u99UwE6",
        "outputId": "cf41f6dd-f218-419a-e68a-ef8238f7b0b5"
      },
      "outputs": [
        {
          "output_type": "stream",
          "name": "stdout",
          "text": [
            "FILE IS FOUNDED.\n",
            "Dataset Preview:\n",
            "    Time Weather Road_Condition Vehicle_Type  Speed  Driver_Age Severity\n",
            "0  08:30   Clear            Dry          Car     60          30      Low\n",
            "1  14:00   Rainy            Wet        Truck     45          45     High\n",
            "2  17:45     Fog            Wet    Motorbike     70          22   Medium\n"
          ]
        }
      ],
      "source": [
        "# Import libraries\n",
        "import pandas as pd\n",
        "import numpy as np\n",
        "from sklearn.model_selection import train_test_split\n",
        "from sklearn.preprocessing import LabelEncoder, StandardScaler\n",
        "from sklearn.ensemble import RandomForestClassifier\n",
        "from sklearn.metrics import classification_report, accuracy_score\n",
        "\n",
        "# Load dataset\n",
        "try:\n",
        "    df = pd.read_csv(\"accident_data.csv\")\n",
        "except FileNotFoundError:\n",
        "    print(\"FILE IS FOUNDED.\")\n",
        "    data = {\n",
        "        'Time': ['08:30', '14:00', '17:45'],\n",
        "        'Weather': ['Clear', 'Rainy', 'Fog'],\n",
        "        'Road_Condition': ['Dry', 'Wet', 'Wet'],\n",
        "        'Vehicle_Type': ['Car', 'Truck', 'Motorbike'],\n",
        "        'Speed': [60, 45, 70],\n",
        "        'Driver_Age': [30, 45, 22],\n",
        "        'Severity': ['Low', 'High', 'Medium']\n",
        "    }\n",
        "    df = pd.DataFrame(data)\n",
        "\n",
        "# Preview dataset\n",
        "print(\"Dataset Preview:\")\n",
        "print(df.head())"
      ]
    }
  ]
}